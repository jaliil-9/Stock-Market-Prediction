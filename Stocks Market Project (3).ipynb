{
 "cells": [
  {
   "cell_type": "markdown",
   "id": "c01d6e7d",
   "metadata": {},
   "source": [
    "# 1. Business Understanding"
   ]
  },
  {
   "cell_type": "markdown",
   "id": "263d186c",
   "metadata": {},
   "source": [
    "### a- Introduction"
   ]
  },
  {
   "cell_type": "markdown",
   "id": "2bb1b066",
   "metadata": {},
   "source": [
    "The motivation for this project is to provide a more informed and data-driven approach to stock trading, which can potentially lead to higher profits and better investment decisions, and a trading bot that uses machine learning to predict optimal times to buy and sell Tencent stock. We chose to use Tencent's historical stock movement (0700.HK) data due to its consistent growth and stability, making it a reliable investment option."
   ]
  },
  {
   "cell_type": "markdown",
   "id": "14cd0b1f",
   "metadata": {},
   "source": [
    "### b- Project description"
   ]
  },
  {
   "cell_type": "markdown",
   "id": "d9cc0229",
   "metadata": {},
   "source": [
    "This potential project aims to develop a trading mechanism that can predict the high and low stocks of Tencent (0700.HK). We will then clean and preprocess the data then the argrelextrema method from the scipy.signal package, which locates local maximum and minimum values, will be used to extract and annotate the dataset. The machine learning model used will be a classification model with three classes: high, low, and neither. "
   ]
  },
  {
   "cell_type": "markdown",
   "id": "11ef8fd6",
   "metadata": {},
   "source": [
    "### c- Training and validation"
   ]
  },
  {
   "cell_type": "markdown",
   "id": "46a30899",
   "metadata": {},
   "source": [
    "The model will be trained and validated using the Tencent (0700.HK) dataset, training will be on data from 2015-2018, and validation data will from 2019-2020, we will use accuracy score to evaluate the model's performance."
   ]
  },
  {
   "cell_type": "markdown",
   "id": "64cb6f63",
   "metadata": {},
   "source": [
    "### d- Trading bot"
   ]
  },
  {
   "cell_type": "markdown",
   "id": "564fa776",
   "metadata": {},
   "source": [
    "The final trading system will aim to maximize profit and have three parameters: g, l, and d. By altering these factors, the project will produce four distinct investor types: Short-term Investor, Medium-term Investor, Long-term Holder, and Random Investor. The smallest value of l will be held by the short-term investor, the middle-term investor will hold both l and g at an intermediate value, the long-term holder will hold the biggest value of g, and the random investor will hold g, l, and d at random values. \n",
    "The real business delivery will be applied on the testing data which is data from 2021."
   ]
  },
  {
   "cell_type": "markdown",
   "id": "02dc3ade",
   "metadata": {},
   "source": [
    "#  2.  Data retrieving and processing"
   ]
  },
  {
   "cell_type": "code",
   "execution_count": 1,
   "id": "79d764b4",
   "metadata": {},
   "outputs": [
    {
     "name": "stdout",
     "output_type": "stream",
     "text": [
      "[*********************100%***********************]  1 of 1 completed\n"
     ]
    }
   ],
   "source": [
    "import yfinance as yf\n",
    "\n",
    "# Retrieve data from Yahoo Finance\n",
    "dataset = yf.download('0700.HK', start='2015-01-01', end='2021-12-31')"
   ]
  },
  {
   "cell_type": "code",
   "execution_count": 2,
   "id": "cecb2d2e",
   "metadata": {},
   "outputs": [
    {
     "data": {
      "text/plain": [
       "(1727, 6)"
      ]
     },
     "execution_count": 2,
     "metadata": {},
     "output_type": "execute_result"
    }
   ],
   "source": [
    "dataset.shape"
   ]
  },
  {
   "cell_type": "markdown",
   "id": "3c08aa24",
   "metadata": {},
   "source": [
    "The dataset has 6 features & 1727 samples"
   ]
  },
  {
   "cell_type": "code",
   "execution_count": 3,
   "id": "ad810b78",
   "metadata": {},
   "outputs": [
    {
     "data": {
      "text/html": [
       "<div>\n",
       "<style scoped>\n",
       "    .dataframe tbody tr th:only-of-type {\n",
       "        vertical-align: middle;\n",
       "    }\n",
       "\n",
       "    .dataframe tbody tr th {\n",
       "        vertical-align: top;\n",
       "    }\n",
       "\n",
       "    .dataframe thead th {\n",
       "        text-align: right;\n",
       "    }\n",
       "</style>\n",
       "<table border=\"1\" class=\"dataframe\">\n",
       "  <thead>\n",
       "    <tr style=\"text-align: right;\">\n",
       "      <th></th>\n",
       "      <th>Open</th>\n",
       "      <th>High</th>\n",
       "      <th>Low</th>\n",
       "      <th>Close</th>\n",
       "      <th>Adj Close</th>\n",
       "      <th>Volume</th>\n",
       "    </tr>\n",
       "    <tr>\n",
       "      <th>Date</th>\n",
       "      <th></th>\n",
       "      <th></th>\n",
       "      <th></th>\n",
       "      <th></th>\n",
       "      <th></th>\n",
       "      <th></th>\n",
       "    </tr>\n",
       "  </thead>\n",
       "  <tbody>\n",
       "    <tr>\n",
       "      <th>2015-01-02</th>\n",
       "      <td>113.599998</td>\n",
       "      <td>113.599998</td>\n",
       "      <td>111.300003</td>\n",
       "      <td>112.800003</td>\n",
       "      <td>110.276039</td>\n",
       "      <td>10862542</td>\n",
       "    </tr>\n",
       "    <tr>\n",
       "      <th>2015-01-05</th>\n",
       "      <td>113.500000</td>\n",
       "      <td>115.300003</td>\n",
       "      <td>112.800003</td>\n",
       "      <td>113.500000</td>\n",
       "      <td>110.960365</td>\n",
       "      <td>21808993</td>\n",
       "    </tr>\n",
       "    <tr>\n",
       "      <th>2015-01-06</th>\n",
       "      <td>114.000000</td>\n",
       "      <td>120.500000</td>\n",
       "      <td>113.599998</td>\n",
       "      <td>120.000000</td>\n",
       "      <td>117.314934</td>\n",
       "      <td>43678255</td>\n",
       "    </tr>\n",
       "  </tbody>\n",
       "</table>\n",
       "</div>"
      ],
      "text/plain": [
       "                  Open        High         Low       Close   Adj Close  \\\n",
       "Date                                                                     \n",
       "2015-01-02  113.599998  113.599998  111.300003  112.800003  110.276039   \n",
       "2015-01-05  113.500000  115.300003  112.800003  113.500000  110.960365   \n",
       "2015-01-06  114.000000  120.500000  113.599998  120.000000  117.314934   \n",
       "\n",
       "              Volume  \n",
       "Date                  \n",
       "2015-01-02  10862542  \n",
       "2015-01-05  21808993  \n",
       "2015-01-06  43678255  "
      ]
     },
     "execution_count": 3,
     "metadata": {},
     "output_type": "execute_result"
    }
   ],
   "source": [
    "dataset.head(3)"
   ]
  },
  {
   "cell_type": "code",
   "execution_count": 4,
   "id": "9f76a006",
   "metadata": {},
   "outputs": [
    {
     "data": {
      "text/html": [
       "<div>\n",
       "<style scoped>\n",
       "    .dataframe tbody tr th:only-of-type {\n",
       "        vertical-align: middle;\n",
       "    }\n",
       "\n",
       "    .dataframe tbody tr th {\n",
       "        vertical-align: top;\n",
       "    }\n",
       "\n",
       "    .dataframe thead th {\n",
       "        text-align: right;\n",
       "    }\n",
       "</style>\n",
       "<table border=\"1\" class=\"dataframe\">\n",
       "  <thead>\n",
       "    <tr style=\"text-align: right;\">\n",
       "      <th></th>\n",
       "      <th>Open</th>\n",
       "      <th>High</th>\n",
       "      <th>Low</th>\n",
       "      <th>Close</th>\n",
       "      <th>Adj Close</th>\n",
       "      <th>Volume</th>\n",
       "    </tr>\n",
       "    <tr>\n",
       "      <th>Date</th>\n",
       "      <th></th>\n",
       "      <th></th>\n",
       "      <th></th>\n",
       "      <th></th>\n",
       "      <th></th>\n",
       "      <th></th>\n",
       "    </tr>\n",
       "  </thead>\n",
       "  <tbody>\n",
       "    <tr>\n",
       "      <th>2021-12-28</th>\n",
       "      <td>457.799988</td>\n",
       "      <td>459.200012</td>\n",
       "      <td>445.000000</td>\n",
       "      <td>450.399994</td>\n",
       "      <td>448.291626</td>\n",
       "      <td>18949609</td>\n",
       "    </tr>\n",
       "    <tr>\n",
       "      <th>2021-12-29</th>\n",
       "      <td>443.600006</td>\n",
       "      <td>445.600006</td>\n",
       "      <td>440.399994</td>\n",
       "      <td>444.799988</td>\n",
       "      <td>442.717834</td>\n",
       "      <td>9589399</td>\n",
       "    </tr>\n",
       "    <tr>\n",
       "      <th>2021-12-30</th>\n",
       "      <td>446.399994</td>\n",
       "      <td>450.799988</td>\n",
       "      <td>442.000000</td>\n",
       "      <td>443.399994</td>\n",
       "      <td>441.324402</td>\n",
       "      <td>7664650</td>\n",
       "    </tr>\n",
       "  </tbody>\n",
       "</table>\n",
       "</div>"
      ],
      "text/plain": [
       "                  Open        High         Low       Close   Adj Close  \\\n",
       "Date                                                                     \n",
       "2021-12-28  457.799988  459.200012  445.000000  450.399994  448.291626   \n",
       "2021-12-29  443.600006  445.600006  440.399994  444.799988  442.717834   \n",
       "2021-12-30  446.399994  450.799988  442.000000  443.399994  441.324402   \n",
       "\n",
       "              Volume  \n",
       "Date                  \n",
       "2021-12-28  18949609  \n",
       "2021-12-29   9589399  \n",
       "2021-12-30   7664650  "
      ]
     },
     "execution_count": 4,
     "metadata": {},
     "output_type": "execute_result"
    }
   ],
   "source": [
    "dataset.tail(3)"
   ]
  },
  {
   "cell_type": "code",
   "execution_count": 5,
   "id": "cb709cc2",
   "metadata": {},
   "outputs": [
    {
     "name": "stdout",
     "output_type": "stream",
     "text": [
      "<class 'pandas.core.frame.DataFrame'>\n",
      "DatetimeIndex: 1727 entries, 2015-01-02 to 2021-12-30\n",
      "Data columns (total 6 columns):\n",
      " #   Column     Non-Null Count  Dtype  \n",
      "---  ------     --------------  -----  \n",
      " 0   Open       1727 non-null   float64\n",
      " 1   High       1727 non-null   float64\n",
      " 2   Low        1727 non-null   float64\n",
      " 3   Close      1727 non-null   float64\n",
      " 4   Adj Close  1727 non-null   float64\n",
      " 5   Volume     1727 non-null   int64  \n",
      "dtypes: float64(5), int64(1)\n",
      "memory usage: 94.4 KB\n"
     ]
    }
   ],
   "source": [
    "dataset.info()"
   ]
  },
  {
   "cell_type": "markdown",
   "id": "b1219d97",
   "metadata": {},
   "source": [
    "There are no missing values, so far there will be no preprocessing needed."
   ]
  },
  {
   "cell_type": "markdown",
   "id": "62a0b485",
   "metadata": {},
   "source": [
    "### Retrieve data"
   ]
  },
  {
   "cell_type": "code",
   "execution_count": 6,
   "id": "025d99f9",
   "metadata": {},
   "outputs": [],
   "source": [
    "import pandas as pd\n",
    "import yfinance as yf\n",
    "from scipy.signal import argrelextrema\n",
    "import numpy as np\n",
    "\n",
    "\n",
    "# Find local maxima and minima\n",
    "local_max = argrelextrema(dataset['Close'].values, comparator=np.greater, order=10)[0]\n",
    "local_min = argrelextrema(dataset['Close'].values, comparator=np.less, order=10)[0]\n",
    "\n",
    "# Combine maxima and minima indices and sort them\n",
    "extrema = np.sort(np.concatenate([local_max, local_min]))\n",
    "\n",
    "# Create a new column for the labels, initialize all values to 0\n",
    "dataset['Label'] = 0\n",
    "\n",
    "# Label the data as high, low, or neither\n",
    "for i in range(1, len(extrema)):\n",
    "    if dataset['Close'][extrema[i]] > dataset['Close'][extrema[i-1]]:\n",
    "        dataset.loc[(dataset.index >= dataset.index[extrema[i-1]]) & (dataset.index <= dataset.index[extrema[i]]), 'Label'] = 1\n",
    "    elif dataset['Close'][extrema[i]] < dataset['Close'][extrema[i-1]]:\n",
    "        dataset.loc[(dataset.index >= dataset.index[extrema[i-1]]) & (dataset.index <= dataset.index[extrema[i]]), 'Label'] = 2\n"
   ]
  },
  {
   "cell_type": "code",
   "execution_count": 7,
   "id": "b39b77fc",
   "metadata": {},
   "outputs": [
    {
     "data": {
      "text/plain": [
       "1    986\n",
       "2    718\n",
       "0     23\n",
       "Name: Label, dtype: int64"
      ]
     },
     "execution_count": 7,
     "metadata": {},
     "output_type": "execute_result"
    }
   ],
   "source": [
    "dataset['Label'].value_counts()"
   ]
  },
  {
   "cell_type": "markdown",
   "id": "85edcafe",
   "metadata": {},
   "source": [
    "0 refers to neither local high nor low price.\n",
    "1 refers to local high price.\n",
    "2 refers to local low price."
   ]
  },
  {
   "cell_type": "code",
   "execution_count": 12,
   "id": "8ba260af",
   "metadata": {},
   "outputs": [
    {
     "data": {
      "image/png": "[encoded data removed]",
      "text/plain": [
       "<Figure size 1500x500 with 3 Axes>"
      ]
     },
     "metadata": {},
     "output_type": "display_data"
    }
   ],
   "source": [
    "from scipy.signal import argrelextrema \n",
    "from matplotlib import pyplot as plt \n",
    "import numpy as np\n",
    "\n",
    "fig, axs = plt.subplots(1, 3, figsize=(15, 5))\n",
    "\n",
    "for i, n in enumerate([5, 10, 15]):\n",
    "    ax = dataset['Close'].plot(ax=axs[i]) \n",
    "    ax = dataset.iloc[argrelextrema(dataset.Close.values, np.less_equal, \n",
    "        order=n)]['Close'].plot(ax=axs[i], style=\"o\", color='red') \n",
    "    ax = dataset.iloc[argrelextrema(dataset.Close.values, \n",
    "        np.greater_equal, order=n)]['Close'].plot(ax=axs[i], style=\"o\", color='orange') \n",
    "    axs[i].set_title(f\"n={n}\")\n",
    "    axs[i].legend([\"Close\", \"Minima\", \"Maxima\"])\n",
    "\n",
    "plt.show()"
   ]
  },
  {
   "cell_type": "markdown",
   "id": "e163d0bc",
   "metadata": {},
   "source": [
    "This figures show the difference between the local values found with order = 5, 10 and 15. The order means how many data points (days) to be considered when finding the extrema."
   ]
  },
  {
   "cell_type": "markdown",
   "id": "650cf1c4",
   "metadata": {},
   "source": [
    "# 3. Feature selection "
   ]
  },
  {
   "cell_type": "code",
   "execution_count": 111,
   "id": "bd1151cd",
   "metadata": {},
   "outputs": [],
   "source": [
    "# Compute Simple Moving Average (SMA)\n",
    "def sma(data, window):\n",
    "    return data.rolling(window=window).mean()\n",
    "\n",
    "# Compute Exponential Moving Average (EMA)\n",
    "def ema(data, window):\n",
    "    return data.ewm(span=window, adjust=False).mean()\n",
    "\n",
    "# Compute Relative Strength Index (RSI)\n",
    "def rsi(data, window):\n",
    "    delta = data.diff()\n",
    "    up = delta.clip(lower=0)\n",
    "    down = -1*delta.clip(upper=0)\n",
    "    ema_up = ema(up, window)\n",
    "    ema_down = ema(down, window)\n",
    "    rs = ema_up/ema_down\n",
    "    return 100 - (100/(1+rs))\n",
    "\n",
    "# Compute Bollinger Bands\n",
    "def bollinger_bands(data, window, num_std):\n",
    "    rolling_mean = sma(data, window)\n",
    "    rolling_std = data.rolling(window=window).std()\n",
    "    upper_band = rolling_mean + (rolling_std * num_std)\n",
    "    lower_band = rolling_mean - (rolling_std * num_std)\n",
    "    return upper_band, lower_band\n",
    "# Compute MACD\n",
    "def calculate_macd(prices, slow=26, fast=12, signal=9):\n",
    "    ema_slow = prices.ewm(span=slow).mean()\n",
    "    ema_fast = prices.ewm(span=fast).mean()\n",
    "    macd = ema_fast - ema_slow\n",
    "    return macd\n",
    "\n",
    "dataset['SMA_20'] = sma(dataset['Close'], window=20)\n",
    "dataset['EMA_20'] = ema(dataset['Close'], window=20)\n",
    "dataset['RSI_14'] = rsi(dataset['Close'], window=14)\n",
    "dataset['Bollinger_upper'], dataset['Bollinger_lower'] = bollinger_bands(dataset['Close'], window=20, num_std=2)\n",
    "dataset['MACD'] =  calculate_macd(dataset['Close'])"
   ]
  },
  {
   "cell_type": "markdown",
   "id": "a9b60aa9",
   "metadata": {},
   "source": [
    "Technical analysis indicators choice:\n",
    "\n",
    "*SMA and EMA: These indicators provide insight into the trend of the stock price over a given time period. By analyzing the movement of the stock price relative to the SMA and EMA, we can determine whether the price is in an uptrend or downtrend.\n",
    "\n",
    "*RSI: This indicator is used to identify whether a stock is overbought or oversold. It compares the average gains of the stock over a given time period to the average losses and gives a value between 0 and 100. A value above 70 is generally considered overbought, while a value below 30 is considered oversold.\n",
    "\n",
    "*Bollinger Bands: These are used to measure the volatility of the stock price. They consist of three lines: the upper band, the lower band, and the middle band (which is typically the 20-day moving average). When the stock price moves outside of the upper or lower band, it is considered to be overbought or oversold, respectively.\n",
    "\n",
    "*MACD: This indicator combines two moving averages to generate trading signals. When the shorter-term moving average crosses above the longer-term moving average, it generates a bullish signal, indicating that the stock price may go up."
   ]
  },
  {
   "cell_type": "code",
   "execution_count": 94,
   "id": "08c1070d",
   "metadata": {
    "collapsed": true
   },
   "outputs": [
    {
     "name": "stdout",
     "output_type": "stream",
     "text": [
      "<class 'pandas.core.frame.DataFrame'>\n",
      "DatetimeIndex: 1727 entries, 2015-01-02 to 2021-12-30\n",
      "Data columns (total 13 columns):\n",
      " #   Column           Non-Null Count  Dtype  \n",
      "---  ------           --------------  -----  \n",
      " 0   Open             1727 non-null   float64\n",
      " 1   High             1727 non-null   float64\n",
      " 2   Low              1727 non-null   float64\n",
      " 3   Close            1727 non-null   float64\n",
      " 4   Adj Close        1727 non-null   float64\n",
      " 5   Volume           1727 non-null   int64  \n",
      " 6   Label            1727 non-null   int64  \n",
      " 7   SMA_20           1708 non-null   float64\n",
      " 8   EMA_20           1727 non-null   float64\n",
      " 9   RSI_14           1726 non-null   float64\n",
      " 10  Bollinger_upper  1708 non-null   float64\n",
      " 11  Bollinger_lower  1708 non-null   float64\n",
      " 12  MACD             1727 non-null   float64\n",
      "dtypes: float64(11), int64(2)\n",
      "memory usage: 188.9 KB\n"
     ]
    }
   ],
   "source": [
    "dataset.info()"
   ]
  },
  {
   "cell_type": "code",
   "execution_count": 112,
   "id": "34280956",
   "metadata": {},
   "outputs": [],
   "source": [
    "# Dropping NaN and missing values\n",
    "dataset = dataset.dropna()\n",
    "dataset = dataset.fillna('')"
   ]
  },
  {
   "cell_type": "code",
   "execution_count": 113,
   "id": "4f97d1dd",
   "metadata": {},
   "outputs": [
    {
     "data": {
      "text/html": [
       "<div>\n",
       "<style scoped>\n",
       "    .dataframe tbody tr th:only-of-type {\n",
       "        vertical-align: middle;\n",
       "    }\n",
       "\n",
       "    .dataframe tbody tr th {\n",
       "        vertical-align: top;\n",
       "    }\n",
       "\n",
       "    .dataframe thead th {\n",
       "        text-align: right;\n",
       "    }\n",
       "</style>\n",
       "<table border=\"1\" class=\"dataframe\">\n",
       "  <thead>\n",
       "    <tr style=\"text-align: right;\">\n",
       "      <th></th>\n",
       "      <th>Open</th>\n",
       "      <th>High</th>\n",
       "      <th>Low</th>\n",
       "      <th>Close</th>\n",
       "      <th>Adj Close</th>\n",
       "      <th>Volume</th>\n",
       "      <th>Label</th>\n",
       "      <th>SMA_20</th>\n",
       "      <th>EMA_20</th>\n",
       "      <th>RSI_14</th>\n",
       "      <th>Bollinger_upper</th>\n",
       "      <th>Bollinger_lower</th>\n",
       "      <th>MACD</th>\n",
       "    </tr>\n",
       "    <tr>\n",
       "      <th>Date</th>\n",
       "      <th></th>\n",
       "      <th></th>\n",
       "      <th></th>\n",
       "      <th></th>\n",
       "      <th></th>\n",
       "      <th></th>\n",
       "      <th></th>\n",
       "      <th></th>\n",
       "      <th></th>\n",
       "      <th></th>\n",
       "      <th></th>\n",
       "      <th></th>\n",
       "      <th></th>\n",
       "    </tr>\n",
       "  </thead>\n",
       "  <tbody>\n",
       "    <tr>\n",
       "      <th>2015-01-29</th>\n",
       "      <td>136.000000</td>\n",
       "      <td>136.399994</td>\n",
       "      <td>133.800003</td>\n",
       "      <td>134.600006</td>\n",
       "      <td>131.588242</td>\n",
       "      <td>14636100</td>\n",
       "      <td>2</td>\n",
       "      <td>126.975</td>\n",
       "      <td>127.693756</td>\n",
       "      <td>68.310714</td>\n",
       "      <td>140.625968</td>\n",
       "      <td>113.324033</td>\n",
       "      <td>2.266299</td>\n",
       "    </tr>\n",
       "    <tr>\n",
       "      <th>2015-01-30</th>\n",
       "      <td>135.500000</td>\n",
       "      <td>135.500000</td>\n",
       "      <td>129.500000</td>\n",
       "      <td>132.000000</td>\n",
       "      <td>129.046448</td>\n",
       "      <td>29375696</td>\n",
       "      <td>2</td>\n",
       "      <td>127.935</td>\n",
       "      <td>128.103875</td>\n",
       "      <td>57.080982</td>\n",
       "      <td>139.996644</td>\n",
       "      <td>115.873356</td>\n",
       "      <td>2.080870</td>\n",
       "    </tr>\n",
       "    <tr>\n",
       "      <th>2015-02-02</th>\n",
       "      <td>129.899994</td>\n",
       "      <td>136.800003</td>\n",
       "      <td>129.899994</td>\n",
       "      <td>135.800003</td>\n",
       "      <td>132.761398</td>\n",
       "      <td>17654028</td>\n",
       "      <td>2</td>\n",
       "      <td>129.050</td>\n",
       "      <td>128.836839</td>\n",
       "      <td>66.396761</td>\n",
       "      <td>139.509647</td>\n",
       "      <td>118.590354</td>\n",
       "      <td>2.167404</td>\n",
       "    </tr>\n",
       "  </tbody>\n",
       "</table>\n",
       "</div>"
      ],
      "text/plain": [
       "                  Open        High         Low       Close   Adj Close  \\\n",
       "Date                                                                     \n",
       "2015-01-29  136.000000  136.399994  133.800003  134.600006  131.588242   \n",
       "2015-01-30  135.500000  135.500000  129.500000  132.000000  129.046448   \n",
       "2015-02-02  129.899994  136.800003  129.899994  135.800003  132.761398   \n",
       "\n",
       "              Volume  Label   SMA_20      EMA_20     RSI_14  Bollinger_upper  \\\n",
       "Date                                                                           \n",
       "2015-01-29  14636100      2  126.975  127.693756  68.310714       140.625968   \n",
       "2015-01-30  29375696      2  127.935  128.103875  57.080982       139.996644   \n",
       "2015-02-02  17654028      2  129.050  128.836839  66.396761       139.509647   \n",
       "\n",
       "            Bollinger_lower      MACD  \n",
       "Date                                   \n",
       "2015-01-29       113.324033  2.266299  \n",
       "2015-01-30       115.873356  2.080870  \n",
       "2015-02-02       118.590354  2.167404  "
      ]
     },
     "execution_count": 113,
     "metadata": {},
     "output_type": "execute_result"
    }
   ],
   "source": [
    "dataset.head(3)"
   ]
  },
  {
   "cell_type": "markdown",
   "id": "5b01183f",
   "metadata": {},
   "source": [
    "# 4. Modelling and evaluation"
   ]
  },
  {
   "cell_type": "markdown",
   "id": "b3d38a2a",
   "metadata": {},
   "source": [
    "### a- Splitting data"
   ]
  },
  {
   "cell_type": "code",
   "execution_count": 14,
   "id": "8b9c113a",
   "metadata": {},
   "outputs": [],
   "source": [
    "# Split the data into training and validation sets (2015-2020) and a final testing set (2021)\n",
    "train_data = dataset.loc['2015-01-01':'2018-12-31']\n",
    "val_data = dataset.loc['2019-01-01':'2020-12-31']\n",
    "test_data = dataset.loc['2021-01-01':]"
   ]
  },
  {
   "cell_type": "code",
   "execution_count": 15,
   "id": "60353df2",
   "metadata": {},
   "outputs": [],
   "source": [
    "X_train = train_data.drop(['Label','High', 'Low', 'Volume'], axis=1)\n",
    "y_train = train_data['Label']\n",
    "\n",
    "X_val = val_data.drop(['Label', 'High', 'Low', 'Volume'], axis=1)\n",
    "y_val = val_data['Label']"
   ]
  },
  {
   "cell_type": "markdown",
   "id": "42d0769b",
   "metadata": {},
   "source": [
    "### b- Normalizing data"
   ]
  },
  {
   "cell_type": "code",
   "execution_count": 16,
   "id": "292b5389",
   "metadata": {},
   "outputs": [],
   "source": [
    "from sklearn.preprocessing import MinMaxScaler\n",
    "\n",
    "# create the scaler object and fit it on the training data\n",
    "scaler = MinMaxScaler()\n",
    "scaler.fit(X_train)\n",
    "\n",
    "# normalize the training and validation data using the fitted scaler\n",
    "X_train_norm = scaler.transform(X_train)\n",
    "X_val_norm = scaler.transform(X_val)"
   ]
  },
  {
   "cell_type": "markdown",
   "id": "cc5f140d",
   "metadata": {},
   "source": [
    "The previous step 'Normalizing data' will make sure the model trains fast in a more accurate way."
   ]
  },
  {
   "cell_type": "markdown",
   "id": "c541505a",
   "metadata": {},
   "source": [
    "### c- Statistical repport"
   ]
  },
  {
   "cell_type": "code",
   "execution_count": 117,
   "id": "1375e11b",
   "metadata": {},
   "outputs": [
    {
     "data": {
      "text/plain": [
       "1    986\n",
       "2    715\n",
       "0      7\n",
       "Name: Label, dtype: int64"
      ]
     },
     "execution_count": 117,
     "metadata": {},
     "output_type": "execute_result"
    }
   ],
   "source": [
    "dataset['Label'].value_counts()"
   ]
  },
  {
   "cell_type": "code",
   "execution_count": 118,
   "id": "928405db",
   "metadata": {},
   "outputs": [
    {
     "data": {
      "text/plain": [
       "((968, 9), (494, 9))"
      ]
     },
     "execution_count": 118,
     "metadata": {},
     "output_type": "execute_result"
    }
   ],
   "source": [
    "X_train.shape, X_val.shape"
   ]
  },
  {
   "cell_type": "code",
   "execution_count": 119,
   "id": "6d19c92f",
   "metadata": {},
   "outputs": [
    {
     "data": {
      "text/plain": [
       "2    164\n",
       "1     75\n",
       "0      7\n",
       "Name: Label, dtype: int64"
      ]
     },
     "execution_count": 119,
     "metadata": {},
     "output_type": "execute_result"
    }
   ],
   "source": [
    "test_data['Label'].value_counts()"
   ]
  },
  {
   "cell_type": "markdown",
   "id": "e8f6263d",
   "metadata": {},
   "source": [
    "1708 total samples\n",
    "986 positive samples: local high price\n",
    "715 negative samples: local low price\n",
    "7 neutral samples: neither local high nor low price\n",
    "\n",
    "For model training and validation, we are using 968 samples of data from 2015-2018 to train our machine learning model. The evaluation is then made on 494 samples of data from 2019-2020.\n",
    "To test the model later on with the trading bot, 246 samples of data from 2021 will be used for that goal.\n",
    "\n",
    "Evaluating the model will be done by calculating F1 using the f1_score from scikit learn library."
   ]
  },
  {
   "cell_type": "markdown",
   "id": "143bc574",
   "metadata": {},
   "source": [
    "### d- Model training and evaluation"
   ]
  },
  {
   "cell_type": "markdown",
   "id": "cc4ccd60",
   "metadata": {},
   "source": [
    "#####  *Testing differents model with the best potential to be trained accurately with the data"
   ]
  },
  {
   "cell_type": "code",
   "execution_count": 22,
   "id": "04b5dabe",
   "metadata": {},
   "outputs": [
    {
     "name": "stdout",
     "output_type": "stream",
     "text": [
      "For the Random Forest model, F1 score on Validation data is:  50.39 %\n"
     ]
    }
   ],
   "source": [
    "from sklearn.ensemble import RandomForestClassifier\n",
    "from sklearn.metrics import f1_score\n",
    "\n",
    "model_1 = RandomForestClassifier(n_estimators=500)\n",
    "model_1.fit(X_train_norm, y_train)\n",
    "\n",
    "y_pred = model_1.predict(X_val_norm)\n",
    "f1 = f1_score(y_pred, y_val)\n",
    "\n",
    "print('For the Random Forest model, F1 score on Validation data is: ',round(f1*100,2),'%')"
   ]
  },
  {
   "cell_type": "code",
   "execution_count": 23,
   "id": "f9d69b3f",
   "metadata": {},
   "outputs": [
    {
     "name": "stdout",
     "output_type": "stream",
     "text": [
      "For the Logistic Regression model, F1 score on Validation data is:  62.36 %\n"
     ]
    }
   ],
   "source": [
    "from sklearn.linear_model import LogisticRegression\n",
    "\n",
    "model_2 = LogisticRegression()\n",
    "model_2.fit(X_train_norm, y_train)\n",
    "\n",
    "y_pred = model_2.predict(X_val_norm)\n",
    "f1 = f1_score(y_pred, y_val)\n",
    "\n",
    "print('For the Logistic Regression model, F1 score on Validation data is: ',round(f1*100,2),'%')"
   ]
  },
  {
   "cell_type": "code",
   "execution_count": 24,
   "id": "12277453",
   "metadata": {},
   "outputs": [
    {
     "name": "stdout",
     "output_type": "stream",
     "text": [
      "For the Support Vector Machine model, F1 score on Validation data is:  77.11 %\n"
     ]
    }
   ],
   "source": [
    "from sklearn import svm\n",
    "\n",
    "model_3 = svm.SVC(kernel='linear')\n",
    "model_3.fit(X_train_norm, y_train)\n",
    "\n",
    "y_pred = model_3.predict(X_val_norm)\n",
    "f1 = f1_score(y_pred, y_val)\n",
    "\n",
    "print('For the Support Vector Machine model, F1 score on Validation data is: ',round(f1*100,2),'%')"
   ]
  },
  {
   "cell_type": "code",
   "execution_count": 29,
   "id": "8d9fbd27",
   "metadata": {},
   "outputs": [
    {
     "name": "stdout",
     "output_type": "stream",
     "text": [
      "For the XGBoost model, F1 score on Validation data is:  50.59 %\n"
     ]
    }
   ],
   "source": [
    "import xgboost as xgb\n",
    "\n",
    "model_4 = xgb.XGBClassifier(objective='multi:softmax', num_class=3, seed=42)\n",
    "model_4.fit(X_train_norm, y_train)\n",
    "\n",
    "y_pred = model_4.predict(X_val_norm)\n",
    "f1 = f1_score(y_pred, y_val)\n",
    "\n",
    "print('For the XGBoost model, F1 score on Validation data is: ',round(f1*100,2),'%')"
   ]
  },
  {
   "cell_type": "code",
   "execution_count": 30,
   "id": "0ce012fe",
   "metadata": {},
   "outputs": [
    {
     "name": "stdout",
     "output_type": "stream",
     "text": [
      "For the Naive Bayes model, F1 score on Validation data is:  10.47 %\n"
     ]
    }
   ],
   "source": [
    "from sklearn.naive_bayes import GaussianNB\n",
    "\n",
    "model_5 = GaussianNB()\n",
    "model_5.fit(X_train_norm, y_train)\n",
    "\n",
    "y_pred = model_5.predict(X_val_norm)\n",
    "f1 = f1_score(y_pred, y_val)\n",
    "\n",
    "print('For the Naive Bayes model, F1 score on Validation data is: ',round(f1*100,2),'%')"
   ]
  },
  {
   "cell_type": "markdown",
   "id": "09f31390",
   "metadata": {},
   "source": [
    "*By comparing this different model will can say that the model with the best performance is \"Support Vector Machine\" model, because they are well-suited for non-linear classification problems, which can be useful for predicting stock market movements that often exhibit non-linear behavior. Its also less prone to overfitting compared to other models, such as decision trees or neural networks. This is because SVMs try to maximize the margin between the classes, which effectively reduces the number of support vectors and leads to a more generalized model."
   ]
  },
  {
   "cell_type": "code",
   "execution_count": 25,
   "id": "77d973c9",
   "metadata": {},
   "outputs": [
    {
     "data": {
      "text/plain": [
       "SVC(kernel='linear')"
      ]
     },
     "execution_count": 25,
     "metadata": {},
     "output_type": "execute_result"
    }
   ],
   "source": [
    "from sklearn import svm\n",
    "\n",
    "model = svm.SVC(kernel='linear')\n",
    "model.fit(X_train_norm, y_train)"
   ]
  },
  {
   "cell_type": "code",
   "execution_count": 26,
   "id": "a1abfeab",
   "metadata": {},
   "outputs": [
    {
     "name": "stdout",
     "output_type": "stream",
     "text": [
      "F1 score on Validation data is:  77.11 %\n"
     ]
    }
   ],
   "source": [
    "from sklearn.metrics import f1_score\n",
    "\n",
    "y_pred = model.predict(X_val_norm)\n",
    "f1 = f1_score(y_pred, y_val)\n",
    "\n",
    "print('F1 score on Validation data is: ',round(f1*100,2),'%')"
   ]
  },
  {
   "cell_type": "markdown",
   "id": "af7d7f2f",
   "metadata": {},
   "source": [
    "Predicting stock market trends is challenging due to the influence of many factors (economy, public sentiments, costumers bihavior, and political factors) which always change not just historical stock movement, so an f1 score between 60-80% is considered good. The Support Vector Machine model got a score=77.11% which indicate that the model is well trained."
   ]
  },
  {
   "cell_type": "markdown",
   "id": "87a97db5",
   "metadata": {},
   "source": [
    "# 5. Real business performance delivery \n"
   ]
  },
  {
   "cell_type": "code",
   "execution_count": 123,
   "id": "920c2f2b",
   "metadata": {},
   "outputs": [],
   "source": [
    "# Define a function to generate buy and sell signals\n",
    "def generate_signals(data, model):\n",
    "    signals = model.predict(data)\n",
    "    return signals"
   ]
  },
  {
   "cell_type": "code",
   "execution_count": 124,
   "id": "88d4d699",
   "metadata": {},
   "outputs": [],
   "source": [
    "# Define a function to calculate profit\n",
    "def calculate_profit(data, signals, g, l, d):\n",
    "    shares = 0\n",
    "    buy_price = 0\n",
    "    profit = 0\n",
    "    for i in range(len(data)):\n",
    "        if signals[i] == 2:\n",
    "            shares += 100\n",
    "            buy_price = data[i][3] \n",
    "        elif signals[i] == 1:\n",
    "            if shares > 0:\n",
    "                sell_price = data[i][3] \n",
    "                if (sell_price - buy_price) / buy_price >= g or (sell_price - buy_price) / buy_price <= l or i == len(data)-1 or i == d:\n",
    "                    profit += (sell_price - buy_price) * shares\n",
    "                    shares = 0\n",
    "        elif signals[i] == 0:\n",
    "            if shares > 0 and (i == len(data)-1 or i == d):\n",
    "                sell_price = data[i][3] \n",
    "                profit += (sell_price - buy_price) * shares\n",
    "                shares = 0\n",
    "    return profit"
   ]
  },
  {
   "cell_type": "code",
   "execution_count": 129,
   "id": "5610065c",
   "metadata": {},
   "outputs": [],
   "source": [
    "investor_types = {\n",
    "    'Short-term Investor': {'g': 0.01, 'l': -0.01, 'd': 5},\n",
    "    'Medium-term Investor': {'g': 0.03, 'l': -0.02, 'd': 15},\n",
    "    'Long-term Holder': {'g': 0.05, 'l': -0.03, 'd': 30},\n",
    "    'Random Investor': {'g': 0, 'l': -1, 'd': 4}\n",
    "}\n",
    "profits = {}\n",
    "for investor_type in investor_types:\n",
    "    g = investor_types[investor_type]['g']\n",
    "    l = investor_types[investor_type]['l']\n",
    "    d = investor_types[investor_type]['d']\n",
    "    X_test = test_data.drop(['Label', 'High', 'Low', 'Volume'], axis=1)    \n",
    "    X_test_norm = scaler.transform(X_test)\n",
    "    signals = generate_signals(X_test_norm, model)\n",
    "    profit = calculate_profit(X_test_norm, signals, g, l, d)\n",
    "    profits[investor_type] = profit"
   ]
  },
  {
   "cell_type": "code",
   "execution_count": 130,
   "id": "e758135f",
   "metadata": {},
   "outputs": [
    {
     "name": "stdout",
     "output_type": "stream",
     "text": [
      "Short-term Investor profit: 232.64892216947808\n",
      "Medium-term Investor profit: 615.1422448944113\n",
      "Long-term Holder profit: 885.0400986987665\n",
      "Random Investor profit: 86.26593118637724\n"
     ]
    }
   ],
   "source": [
    "for investor_type in profits:\n",
    "    print(investor_type, 'profit:', profits[investor_type])\n"
   ]
  },
  {
   "cell_type": "markdown",
   "id": "5a7bc745",
   "metadata": {},
   "source": [
    "From the results above we can say that the Long-term Holder Investor has the best trading strategy.\n",
    "The reasons for its advantage are :\n",
    "\n",
    "*Time in the market: he have more time to ride out short-term fluctuations in the stock market.\n",
    "\n",
    "*Reduced trading costs: By holding onto investments for a long period of time, he can avoid frequent trading, which can result in lower transaction costs and capital gains taxes.\n",
    "\n",
    "*Compounding returns: he can benefit from the power of compounding returns.\n",
    "\n",
    "A long-term hold strategy can help investors avoid the risks and costs associated with frequent trading while providing the opportunity for significant returns over time."
   ]
  },
  {
   "cell_type": "code",
   "execution_count": null,
   "id": "b0bd5aff",
   "metadata": {},
   "outputs": [],
   "source": []
  }
 ],
 "metadata": {
  "kernelspec": {
   "display_name": "Python 3 (ipykernel)",
   "language": "python",
   "name": "python3"
  },
  "language_info": {
   "codemirror_mode": {
    "name": "ipython",
    "version": 3
   },
   "file_extension": ".py",
   "mimetype": "text/x-python",
   "name": "python",
   "nbconvert_exporter": "python",
   "pygments_lexer": "ipython3",
   "version": "3.9.13"
  }
 },
 "nbformat": 4,
 "nbformat_minor": 5
}
